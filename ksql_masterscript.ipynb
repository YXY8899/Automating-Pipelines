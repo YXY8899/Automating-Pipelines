{
 "cells": [
  {
   "cell_type": "markdown",
   "id": "a50fea50-bc11-4da1-878a-ccb167f8c9cd",
   "metadata": {},
   "source": [
    "# Script to write sql queries on ksqldb\n",
    "- Import the necessary Dependencies"
   ]
  },
  {
   "cell_type": "code",
   "execution_count": 1,
   "id": "bc3bc314-fb77-4e3a-b1f9-ba3f6c401f29",
   "metadata": {
    "tags": []
   },
   "outputs": [],
   "source": [
    "import os\n",
    "import json\n",
    "from requests import Session"
   ]
  },
  {
   "cell_type": "markdown",
   "id": "977705f5-cbef-42ca-9f57-107574a693ed",
   "metadata": {},
   "source": [
    "- Initialize ksqlDB client session"
   ]
  },
  {
   "cell_type": "code",
   "execution_count": 2,
   "id": "0bbc7243-d16d-4793-9351-64943c984697",
   "metadata": {
    "tags": []
   },
   "outputs": [],
   "source": [
    "ksql_client = Session()\n",
    "ksql_client.headers.update({'Content-Type': 'application/vnd.ksql.v1+json'})"
   ]
  },
  {
   "cell_type": "markdown",
   "id": "213dd12a-889e-4c35-889b-0989920b2ebc",
   "metadata": {},
   "source": [
    "- Set the KSQLDB-Server URL"
   ]
  },
  {
   "cell_type": "code",
   "execution_count": 15,
   "id": "1f98e4cc-70aa-4af7-8e7e-9fe4e1fc9751",
   "metadata": {
    "tags": []
   },
   "outputs": [],
   "source": [
    "server_url = \"http://svc-kafka-ksqldb-server-headless.starlake-kafka:8088\""
   ]
  },
  {
   "cell_type": "markdown",
   "id": "89c86550-76eb-4769-ac5b-37738600a26d",
   "metadata": {},
   "source": [
    "- set the folders containing the sql queries"
   ]
  },
  {
   "cell_type": "code",
   "execution_count": 16,
   "id": "bf6419f7-dee7-4a8e-b058-d08c09248f0f",
   "metadata": {
    "tags": []
   },
   "outputs": [],
   "source": [
    "stream_folder = \"sql_queries_stream\"\n",
    "table_folder = \"sql_queries_table\"\n",
    "combined_folder = \"sql_queries_combined\"\n",
    "all_folder = \"all_stream_combined\""
   ]
  },
  {
   "cell_type": "markdown",
   "id": "b954b44a-8f34-4ea7-a3a2-d660c4096377",
   "metadata": {},
   "source": [
    "- Function that interates the over the folder and execute the sql commands on ksqldb"
   ]
  },
  {
   "cell_type": "code",
   "execution_count": 17,
   "id": "0178e185-7e38-43ed-9c39-29db059a4b09",
   "metadata": {
    "tags": []
   },
   "outputs": [],
   "source": [
    "def create_ksql_queries(sql_folder):\n",
    "    for filename in os.listdir(sql_folder):\n",
    "        if filename.endswith(\".sql\"):\n",
    "            file_path = os.path.join(sql_folder, filename)\n",
    "            \n",
    "            # Read SQL command from file\n",
    "            with open(file_path, \"r\") as file:\n",
    "                sql_command = file.read()\n",
    "\n",
    "            # Execute SQL command\n",
    "            response = ksql_client.post(f\"{server_url}/ksql\", json={'ksql': sql_command})\n",
    "            \n",
    "            # Check response status code\n",
    "            response.raise_for_status()\n",
    "\n",
    "            # Print response\n",
    "            print(f\"Response for {filename}: {response.json()}\")"
   ]
  },
  {
   "cell_type": "code",
   "execution_count": 18,
   "id": "cc5afe56-76e4-4712-9553-73a457894390",
   "metadata": {
    "tags": []
   },
   "outputs": [
    {
     "name": "stdout",
     "output_type": "stream",
     "text": [
      "Response for stream_1.sql: [{'@type': 'currentStatus', 'statementText': \"CREATE STREAM SHEEP_STREAM_1 (ID INTEGER, FARM STRING, SHEEP_ID INTEGER, LONGITUDE DOUBLE, LATITUDE DOUBLE, DATE_TIME STRING, FILE_PATH STRING) WITH (CLEANUP_POLICY='delete', KAFKA_TOPIC='sheeps', KEY_FORMAT='KAFKA', VALUE_FORMAT='AVRO');\", 'commandId': 'stream/`SHEEP_STREAM_1`/create', 'commandStatus': {'status': 'SUCCESS', 'message': 'Stream created', 'queryId': None}, 'commandSequenceNumber': 2, 'warnings': []}]\n",
      "Response for stream_2.sql: [{'@type': 'currentStatus', 'statementText': \"CREATE STREAM WHALE_STREAM_2 (ID INTEGER, FARM STRING, WHALE_ID INTEGER, LONGITUDE DOUBLE, LATITUDE DOUBLE, DATE_TIME STRING, FILE_PATH STRING) WITH (CLEANUP_POLICY='delete', KAFKA_TOPIC='whales', KEY_FORMAT='KAFKA', VALUE_FORMAT='AVRO');\", 'commandId': 'stream/`WHALE_STREAM_2`/create', 'commandStatus': {'status': 'SUCCESS', 'message': 'Stream created', 'queryId': None}, 'commandSequenceNumber': 4, 'warnings': []}]\n",
      "Response for stream_3.sql: [{'@type': 'currentStatus', 'statementText': \"CREATE STREAM BIRD_STREAM_3 (ID INTEGER, FARM STRING, BIRD_ID INTEGER, LONGITUDE DOUBLE, LATITUDE DOUBLE, DATE_TIME STRING, FILE_PATH STRING) WITH (CLEANUP_POLICY='delete', KAFKA_TOPIC='birds', KEY_FORMAT='KAFKA', VALUE_FORMAT='AVRO');\", 'commandId': 'stream/`BIRD_STREAM_3`/create', 'commandStatus': {'status': 'SUCCESS', 'message': 'Stream created', 'queryId': None}, 'commandSequenceNumber': 6, 'warnings': []}]\n"
     ]
    }
   ],
   "source": [
    "create_ksql_queries(stream_folder)"
   ]
  },
  {
   "cell_type": "code",
   "execution_count": 19,
   "id": "c03af8eb-e701-48d0-b849-e77f81fb6dca",
   "metadata": {
    "tags": []
   },
   "outputs": [
    {
     "name": "stdout",
     "output_type": "stream",
     "text": [
      "Response for bird_name3_table.sql: [{'@type': 'currentStatus', 'statementText': \"CREATE TABLE BIRD_NAME_3 (BIRD_ID INTEGER PRIMARY KEY, BIRD_NAME STRING) WITH (CLEANUP_POLICY='compact', KAFKA_TOPIC='bird_names_farm', KEY_FORMAT='DELIMITED', VALUE_FORMAT='DELIMITED');\", 'commandId': 'table/`BIRD_NAME_3`/create', 'commandStatus': {'status': 'SUCCESS', 'message': 'Table created', 'queryId': None}, 'commandSequenceNumber': 8, 'warnings': []}]\n",
      "Response for sheep_name1_table.sql: [{'@type': 'currentStatus', 'statementText': \"CREATE TABLE SHEEP_NAME_1 (SHEEP_ID INTEGER PRIMARY KEY, SHEEP_NAME STRING) WITH (CLEANUP_POLICY='compact', KAFKA_TOPIC='sheep_names_farm', KEY_FORMAT='DELIMITED', VALUE_FORMAT='DELIMITED');\", 'commandId': 'table/`SHEEP_NAME_1`/create', 'commandStatus': {'status': 'SUCCESS', 'message': 'Table created', 'queryId': None}, 'commandSequenceNumber': 10, 'warnings': []}]\n",
      "Response for whale_name2_table.sql: [{'@type': 'currentStatus', 'statementText': \"CREATE TABLE WHALE_NAME_2 (WHALE_ID INTEGER PRIMARY KEY, WHALE_NAME STRING) WITH (CLEANUP_POLICY='compact', KAFKA_TOPIC='whale_names_farm', KEY_FORMAT='DELIMITED', VALUE_FORMAT='DELIMITED');\", 'commandId': 'table/`WHALE_NAME_2`/create', 'commandStatus': {'status': 'SUCCESS', 'message': 'Table created', 'queryId': None}, 'commandSequenceNumber': 12, 'warnings': []}]\n"
     ]
    }
   ],
   "source": [
    "create_ksql_queries(table_folder)"
   ]
  },
  {
   "cell_type": "code",
   "execution_count": 20,
   "id": "f3dc640b-602d-48f7-98ac-08910d319913",
   "metadata": {
    "tags": []
   },
   "outputs": [
    {
     "name": "stdout",
     "output_type": "stream",
     "text": [
      "Response for bird_combined.sql: [{'@type': 'currentStatus', 'statementText': \"CREATE STREAM BIRD_COMBINED WITH (CLEANUP_POLICY='delete', KAFKA_TOPIC='BIRD_COMBINED', PARTITIONS=1, REPLICAS=1, RETENTION_MS=86400000) AS SELECT\\n  BIRD_STREAM_3.ID ID,\\n  BIRD_STREAM_3.FARM FARM,\\n  BIRD_STREAM_3.BIRD_ID BIRD_STREAM_3_BIRD_ID,\\n  BIRD_STREAM_3.LONGITUDE LONGITUDE,\\n  BIRD_STREAM_3.LATITUDE LATITUDE,\\n  BIRD_STREAM_3.DATE_TIME DATE_TIME,\\n  BIRD_STREAM_3.FILE_PATH FILE_PATH,\\n  BIRD_NAME_3.BIRD_ID BIRD_ID,\\n  BIRD_NAME_3.BIRD_NAME BIRD_NAME\\nFROM BIRD_STREAM_3 BIRD_STREAM_3\\nINNER JOIN BIRD_NAME_3 BIRD_NAME_3 ON ((BIRD_STREAM_3.BIRD_ID = BIRD_NAME_3.BIRD_ID))\\nEMIT CHANGES;\", 'commandId': 'stream/`BIRD_COMBINED`/create', 'commandStatus': {'status': 'SUCCESS', 'message': 'Created query with ID CSAS_BIRD_COMBINED_13', 'queryId': 'CSAS_BIRD_COMBINED_13'}, 'commandSequenceNumber': 14, 'warnings': []}]\n",
      "Response for sheep_combined.sql: [{'@type': 'currentStatus', 'statementText': \"CREATE STREAM SHEEP_COMBINED WITH (CLEANUP_POLICY='delete', KAFKA_TOPIC='SHEEP_COMBINED', PARTITIONS=1, REPLICAS=1, RETENTION_MS=86400000) AS SELECT\\n  SHEEP_STREAM_1.ID ID,\\n  SHEEP_STREAM_1.FARM FARM,\\n  SHEEP_STREAM_1.SHEEP_ID SHEEP_STREAM_1_SHEEP_ID,\\n  SHEEP_STREAM_1.LONGITUDE LONGITUDE,\\n  SHEEP_STREAM_1.LATITUDE LATITUDE,\\n  SHEEP_STREAM_1.DATE_TIME DATE_TIME,\\n  SHEEP_STREAM_1.FILE_PATH FILE_PATH,\\n  SHEEP_NAME_1.SHEEP_ID SHEEP_ID,\\n  SHEEP_NAME_1.SHEEP_NAME SHEEP_NAME\\nFROM SHEEP_STREAM_1 SHEEP_STREAM_1\\nINNER JOIN SHEEP_NAME_1 SHEEP_NAME_1 ON ((SHEEP_STREAM_1.SHEEP_ID = SHEEP_NAME_1.SHEEP_ID))\\nEMIT CHANGES;\", 'commandId': 'stream/`SHEEP_COMBINED`/create', 'commandStatus': {'status': 'SUCCESS', 'message': 'Created query with ID CSAS_SHEEP_COMBINED_15', 'queryId': 'CSAS_SHEEP_COMBINED_15'}, 'commandSequenceNumber': 16, 'warnings': []}]\n",
      "Response for whale_combined.sql: [{'@type': 'currentStatus', 'statementText': \"CREATE STREAM WHALE_COMBINED WITH (CLEANUP_POLICY='delete', KAFKA_TOPIC='WHALE_COMBINED', PARTITIONS=1, REPLICAS=1, RETENTION_MS=86400000) AS SELECT\\n  WHALE_STREAM_2.ID ID,\\n  WHALE_STREAM_2.FARM FARM,\\n  WHALE_STREAM_2.WHALE_ID WHALE_STREAM_2_WHALE_ID,\\n  WHALE_STREAM_2.LONGITUDE LONGITUDE,\\n  WHALE_STREAM_2.LATITUDE LATITUDE,\\n  WHALE_STREAM_2.DATE_TIME DATE_TIME,\\n  WHALE_STREAM_2.FILE_PATH FILE_PATH,\\n  WHALE_NAME_2.WHALE_ID WHALE_ID,\\n  WHALE_NAME_2.WHALE_NAME WHALE_NAME\\nFROM WHALE_STREAM_2 WHALE_STREAM_2\\nINNER JOIN WHALE_NAME_2 WHALE_NAME_2 ON ((WHALE_STREAM_2.WHALE_ID = WHALE_NAME_2.WHALE_ID))\\nEMIT CHANGES;\", 'commandId': 'stream/`WHALE_COMBINED`/create', 'commandStatus': {'status': 'SUCCESS', 'message': 'Created query with ID CSAS_WHALE_COMBINED_17', 'queryId': 'CSAS_WHALE_COMBINED_17'}, 'commandSequenceNumber': 18, 'warnings': []}]\n"
     ]
    }
   ],
   "source": [
    "create_ksql_queries(combined_folder)"
   ]
  },
  {
   "cell_type": "code",
   "execution_count": 21,
   "id": "4ec122e5-71f1-4a50-84e7-895fc1e64571",
   "metadata": {
    "tags": []
   },
   "outputs": [
    {
     "name": "stdout",
     "output_type": "stream",
     "text": [
      "Response for all_stream.sql: [{'@type': 'currentStatus', 'statementText': \"CREATE STREAM ALL_STREAM WITH (CLEANUP_POLICY='delete', KAFKA_TOPIC='ALL_STREAM', PARTITIONS=1, REPLICAS=1, RETENTION_MS=86400000) AS SELECT\\n  SHEEP_COMBINED.SHEEP_STREAM_1_SHEEP_ID ANIMAL_ID_KEY,\\n  SHEEP_COMBINED.SHEEP_ID ANIMAL_ID,\\n  SHEEP_COMBINED.SHEEP_NAME ANIMAL_NAME,\\n  SHEEP_COMBINED.FARM FARM,\\n  SHEEP_COMBINED.LONGITUDE LONGITUDE,\\n  SHEEP_COMBINED.LATITUDE LATITUDE,\\n  SHEEP_COMBINED.DATE_TIME DATE_TIME,\\n  SHEEP_COMBINED.FILE_PATH FILE_PATH\\nFROM SHEEP_COMBINED SHEEP_COMBINED\\nEMIT CHANGES;\", 'commandId': 'stream/`ALL_STREAM`/create', 'commandStatus': {'status': 'SUCCESS', 'message': 'Created query with ID CSAS_ALL_STREAM_19', 'queryId': 'CSAS_ALL_STREAM_19'}, 'commandSequenceNumber': 20, 'warnings': []}, {'@type': 'currentStatus', 'statementText': 'INSERT INTO ALL_STREAM SELECT\\n  WHALE_STREAM_2_WHALE_ID ANIMAL_ID_KEY,\\n  WHALE_ID ANIMAL_ID, \\n  WHALE_NAME ANIMAL_NAME,\\n  FARM,\\n  LONGITUDE,\\n  LATITUDE,\\n  DATE_TIME,\\n  FILE_PATH\\nFROM  WHALE_COMBINED\\nEMIT CHANGES;', 'commandId': 'stream/`ALL_STREAM`/create', 'commandStatus': {'status': 'SUCCESS', 'message': 'Created query with ID INSERTQUERY_21', 'queryId': 'INSERTQUERY_21'}, 'commandSequenceNumber': 22, 'warnings': []}, {'@type': 'currentStatus', 'statementText': 'INSERT INTO ALL_STREAM SELECT\\n  BIRD_STREAM_3_BIRD_ID ANIMAL_ID_KEY,\\n  BIRD_ID ANIMAL_ID, \\n  BIRD_NAME ANIMAL_NAME,\\n  FARM,\\n  LONGITUDE,\\n  LATITUDE,\\n  DATE_TIME,\\n  FILE_PATH\\nFROM  BIRD_COMBINED\\nEMIT CHANGES;', 'commandId': 'stream/`ALL_STREAM`/create', 'commandStatus': {'status': 'SUCCESS', 'message': 'Created query with ID INSERTQUERY_23', 'queryId': 'INSERTQUERY_23'}, 'commandSequenceNumber': 24, 'warnings': []}]\n"
     ]
    }
   ],
   "source": [
    "create_ksql_queries(all_folder)"
   ]
  },
  {
   "cell_type": "code",
   "execution_count": null,
   "id": "ae41ac06-2dfd-473d-a234-21c7b8f4eeca",
   "metadata": {},
   "outputs": [],
   "source": []
  }
 ],
 "metadata": {
  "kernelspec": {
   "display_name": "Python 3 (ipykernel)",
   "language": "python",
   "name": "python3"
  },
  "language_info": {
   "codemirror_mode": {
    "name": "ipython",
    "version": 3
   },
   "file_extension": ".py",
   "mimetype": "text/x-python",
   "name": "python",
   "nbconvert_exporter": "python",
   "pygments_lexer": "ipython3",
   "version": "3.11.6"
  }
 },
 "nbformat": 4,
 "nbformat_minor": 5
}
