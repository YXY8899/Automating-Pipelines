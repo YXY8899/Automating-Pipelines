{
 "cells": [
  {
   "cell_type": "markdown",
   "id": "b556400b-ec0c-4246-a33d-5eecc5850ef1",
   "metadata": {},
   "source": [
    "# Script to create Schema the topics\n",
    "- Import the necessary Dependencies"
   ]
  },
  {
   "cell_type": "code",
   "execution_count": 1,
   "id": "8f3280ed-aa14-43c1-b4fe-777db4ec1b2d",
   "metadata": {
    "tags": []
   },
   "outputs": [],
   "source": [
    "import os\n",
    "import requests"
   ]
  },
  {
   "cell_type": "markdown",
   "id": "75d639f5-6774-4e67-974e-e3c453b6b7cd",
   "metadata": {},
   "source": [
    "- Set the variables for the kafka connect url"
   ]
  },
  {
   "cell_type": "code",
   "execution_count": 2,
   "id": "4eab7f33-ebd4-4e60-870d-3903c02d87fb",
   "metadata": {
    "tags": []
   },
   "outputs": [],
   "source": [
    "CONNECT_URL = \"http://svc-kafkaconnect-headless.starlake-kafka:8083/connectors\""
   ]
  },
  {
   "cell_type": "markdown",
   "id": "e5283503-1634-4cc5-8cc4-fcdda43fc38e",
   "metadata": {},
   "source": [
    "- If you want to set up only 1 connector, set the file containing the connectors json config"
   ]
  },
  {
   "cell_type": "code",
   "execution_count": 3,
   "id": "cebcd698-925c-4828-b171-3c52eec00e15",
   "metadata": {
    "tags": []
   },
   "outputs": [],
   "source": [
    "JSON_FILE = \"\""
   ]
  },
  {
   "cell_type": "code",
   "execution_count": null,
   "id": "3bed0252-53e4-4752-8d11-cfdd0eacfff8",
   "metadata": {},
   "outputs": [],
   "source": [
    "# Check if a JSON file is provided\n",
    "if not JSON_FILE:\n",
    "    print(\"Error: No JSON file specified.\")\n",
    "    sys.exit(1)\n",
    "\n",
    "# Check if the JSON file exists\n",
    "if not os.path.isfile(JSON_FILE):\n",
    "    print(f\"Error: JSON file '{JSON_FILE}' not found.\")\n",
    "    sys.exit(1)\n",
    "\n",
    "# Send the selected file to Kafka Connect\n",
    "with open(JSON_FILE, 'rb') as file:\n",
    "    response = requests.post(CONNECT_URL, headers={\"Content-Type\": \"application/json\"}, data=file)\n",
    "    print(response.text)"
   ]
  },
  {
   "cell_type": "markdown",
   "id": "7f822710-91cb-4501-9e9d-28af37e105b7",
   "metadata": {},
   "source": [
    "- If you want to set-up multiple connectors, set the folder containing the json config files"
   ]
  },
  {
   "cell_type": "code",
   "execution_count": 4,
   "id": "0800aa0a-9eeb-45a5-b547-215aa4c001b3",
   "metadata": {
    "tags": []
   },
   "outputs": [],
   "source": [
    "JSON_FOLDER = \"json_config_files\""
   ]
  },
  {
   "cell_type": "code",
   "execution_count": 5,
   "id": "63497b55-cbdf-4017-bbc7-eaaaf0909a35",
   "metadata": {
    "tags": []
   },
   "outputs": [
    {
     "name": "stdout",
     "output_type": "stream",
     "text": [
      "{\"name\":\"bird_connector\",\"config\":{\"connector.class\":\"io.confluent.connect.jdbc.JdbcSourceConnector\",\"connection.url\":\"jdbc:postgresql://svc-postgres-headless:5432/postgres\",\"connection.user\":\"postgres\",\"connection.password\":\"plschangemepls\",\"table.whitelist\":\"birds\",\"mode\":\"incrementing\",\"incrementing.column.name\":\"id\",\"key.converter.schemas.enable\":\"true\",\"key.converter\":\"io.confluent.connect.avro.AvroConverter\",\"key.converter.schema.registry.url\":\"http://svc-schemaregistry-headless.starlake-kafka:8081\",\"value.converter.schemas.enable\":\"true\",\"value.converter\":\"io.confluent.connect.avro.AvroConverter\",\"value.converter.schema.registry.url\":\"http://svc-schemaregistry-headless.starlake-kafka:8081\",\"name\":\"bird_connector\"},\"tasks\":[],\"type\":\"source\"}\n",
      "{\"name\":\"sheep_connector\",\"config\":{\"connector.class\":\"io.confluent.connect.jdbc.JdbcSourceConnector\",\"connection.url\":\"jdbc:postgresql://svc-postgres-headless:5432/postgres\",\"connection.user\":\"postgres\",\"connection.password\":\"plschangemepls\",\"table.whitelist\":\"sheeps\",\"mode\":\"incrementing\",\"incrementing.column.name\":\"id\",\"key.converter.schemas.enable\":\"true\",\"key.converter\":\"io.confluent.connect.avro.AvroConverter\",\"key.converter.schema.registry.url\":\"http://svc-schemaregistry-headless.starlake-kafka:8081\",\"value.converter.schemas.enable\":\"true\",\"value.converter\":\"io.confluent.connect.avro.AvroConverter\",\"value.converter.schema.registry.url\":\"http://svc-schemaregistry-headless.starlake-kafka:8081\",\"name\":\"sheep_connector\"},\"tasks\":[],\"type\":\"source\"}\n",
      "{\"name\":\"all_sink_connector\",\"config\":{\"name\":\"all_sink_connector\",\"connector.class\":\"io.confluent.connect.jdbc.JdbcSinkConnector\",\"transforms\":\"\",\"topics\":\"ALL_STREAM\",\"connection.url\":\"jdbc:postgresql://svc-postgres-headless:5432/postgres\",\"connection.user\":\"postgres\",\"connection.password\":\"plschangemepls\",\"auto.create\":\"true\",\"value.converter.schemas.enable\":\"true\",\"value.converter\":\"io.confluent.connect.avro.AvroConverter\",\"value.converter.schema.registry.url\":\"http://svc-schemaregistry-headless.starlake-kafka:8081\"},\"tasks\":[],\"type\":\"sink\"}\n",
      "{\"name\":\"bird_sink_connector\",\"config\":{\"name\":\"bird_sink_connector\",\"connector.class\":\"io.confluent.connect.jdbc.JdbcSinkConnector\",\"transforms\":\"\",\"topics\":\"BIRD_COMBINED\",\"connection.url\":\"jdbc:postgresql://svc-postgres-headless:5432/postgres\",\"connection.user\":\"postgres\",\"connection.password\":\"plschangemepls\",\"auto.create\":\"true\",\"value.converter.schemas.enable\":\"true\",\"value.converter\":\"io.confluent.connect.avro.AvroConverter\",\"value.converter.schema.registry.url\":\"http://svc-schemaregistry-headless.starlake-kafka:8081\"},\"tasks\":[],\"type\":\"sink\"}\n",
      "{\"name\":\"sheep_sink_connector\",\"config\":{\"name\":\"sheep_sink_connector\",\"connector.class\":\"io.confluent.connect.jdbc.JdbcSinkConnector\",\"transforms\":\"\",\"topics\":\"SHEEP_COMBINED\",\"connection.url\":\"jdbc:postgresql://svc-postgres-headless:5432/postgres\",\"connection.user\":\"postgres\",\"connection.password\":\"plschangemepls\",\"auto.create\":\"true\",\"value.converter.schemas.enable\":\"true\",\"value.converter\":\"io.confluent.connect.avro.AvroConverter\",\"value.converter.schema.registry.url\":\"http://svc-schemaregistry-headless.starlake-kafka:8081\"},\"tasks\":[],\"type\":\"sink\"}\n",
      "{\"name\":\"whale_sink_connector\",\"config\":{\"name\":\"whale_sink_connector\",\"connector.class\":\"io.confluent.connect.jdbc.JdbcSinkConnector\",\"transforms\":\"\",\"topics\":\"WHALE_COMBINED\",\"connection.url\":\"jdbc:postgresql://svc-postgres-headless:5432/postgres\",\"connection.user\":\"postgres\",\"connection.password\":\"plschangemepls\",\"auto.create\":\"true\",\"value.converter.schemas.enable\":\"true\",\"value.converter\":\"io.confluent.connect.avro.AvroConverter\",\"value.converter.schema.registry.url\":\"http://svc-schemaregistry-headless.starlake-kafka:8081\"},\"tasks\":[],\"type\":\"sink\"}\n",
      "{\"name\":\"whale_connector\",\"config\":{\"connector.class\":\"io.confluent.connect.jdbc.JdbcSourceConnector\",\"connection.url\":\"jdbc:postgresql://svc-postgres-headless:5432/postgres\",\"connection.user\":\"postgres\",\"connection.password\":\"plschangemepls\",\"table.whitelist\":\"whales\",\"mode\":\"incrementing\",\"incrementing.column.name\":\"id\",\"key.converter.schemas.enable\":\"true\",\"key.converter\":\"io.confluent.connect.avro.AvroConverter\",\"key.converter.schema.registry.url\":\"http://svc-schemaregistry-headless.starlake-kafka:8081\",\"value.converter.schemas.enable\":\"true\",\"value.converter\":\"io.confluent.connect.avro.AvroConverter\",\"value.converter.schema.registry.url\":\"http://svc-schemaregistry-headless.starlake-kafka:8081\",\"name\":\"whale_connector\"},\"tasks\":[],\"type\":\"source\"}\n"
     ]
    }
   ],
   "source": [
    "# Check if the JSON folder exists\n",
    "if not os.path.isdir(JSON_FOLDER):\n",
    "    print(f\"Error: JSON folder '{JSON_FOLDER}' not found.\")\n",
    "    sys.exit(1)\n",
    "\n",
    "# Iterate over each file in the JSON folder\n",
    "for filename in os.listdir(JSON_FOLDER):\n",
    "    json_file = os.path.join(JSON_FOLDER, filename)\n",
    "\n",
    "    # Check if the current item is a file and ends with '.json'\n",
    "    if os.path.isfile(json_file) and filename.endswith('.json'):\n",
    "        # Send the file to Kafka Connect\n",
    "        with open(json_file, 'rb') as file:\n",
    "            response = requests.post(CONNECT_URL, headers={\"Content-Type\": \"application/json\"}, data=file)\n",
    "            print(response.text)"
   ]
  },
  {
   "cell_type": "code",
   "execution_count": null,
   "id": "5abb23af-423e-4a0c-a96d-4baaece7d12c",
   "metadata": {},
   "outputs": [],
   "source": []
  }
 ],
 "metadata": {
  "kernelspec": {
   "display_name": "Python 3 (ipykernel)",
   "language": "python",
   "name": "python3"
  },
  "language_info": {
   "codemirror_mode": {
    "name": "ipython",
    "version": 3
   },
   "file_extension": ".py",
   "mimetype": "text/x-python",
   "name": "python",
   "nbconvert_exporter": "python",
   "pygments_lexer": "ipython3",
   "version": "3.11.6"
  }
 },
 "nbformat": 4,
 "nbformat_minor": 5
}
