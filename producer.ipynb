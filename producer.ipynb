{
 "cells": [
  {
   "cell_type": "markdown",
   "id": "1bff9700-7f3c-48af-bdea-ef0b14ccab3d",
   "metadata": {
    "tags": []
   },
   "source": [
    "# Script to produce data from csv to kafka\n",
    "- Import the necessary Dependencies"
   ]
  },
  {
   "cell_type": "code",
   "execution_count": 1,
   "id": "e0c29156-b9f5-4026-9529-9f49cabe906c",
   "metadata": {
    "tags": []
   },
   "outputs": [],
   "source": [
    "import os\n",
    "import time\n",
    "from confluent_kafka.admin import AdminClient, NewTopic\n",
    "from confluent_kafka import Producer"
   ]
  },
  {
   "cell_type": "markdown",
   "id": "79d35d23-67a8-4019-a4d4-9c931291d815",
   "metadata": {},
   "source": [
    "- Set the bootstrap server url"
   ]
  },
  {
   "cell_type": "code",
   "execution_count": 2,
   "id": "60d8607d-7c49-4b17-8e60-e5c5a4ce0629",
   "metadata": {
    "tags": []
   },
   "outputs": [],
   "source": [
    "bootstrap_servers = \"svc-kafka-headless.starlake-kafka:9092\""
   ]
  },
  {
   "cell_type": "markdown",
   "id": "f0f5db03-b70b-4efd-afdc-cb85c334c0dc",
   "metadata": {},
   "source": [
    "- Set the folder containing the csv files to be produced"
   ]
  },
  {
   "cell_type": "code",
   "execution_count": 3,
   "id": "fa1e58dd-c20f-4f18-95f3-8bdeeb399569",
   "metadata": {
    "tags": []
   },
   "outputs": [],
   "source": [
    "folder = \"animal_mapping\""
   ]
  },
  {
   "cell_type": "markdown",
   "id": "e90d3147-7838-4247-a712-d130ddb8ba93",
   "metadata": {},
   "source": [
    "- function to list all files in the folder"
   ]
  },
  {
   "cell_type": "code",
   "execution_count": 4,
   "id": "460aa2b3-0a8b-4087-bf1a-7a44027ee3fd",
   "metadata": {
    "tags": []
   },
   "outputs": [],
   "source": [
    "def read_files_in_folder(folder_path):\n",
    "    # Check if the folder exists\n",
    "    if not os.path.exists(folder_path):\n",
    "        print(f\"Folder '{folder_path}' does not exist.\")\n",
    "    \n",
    "    # List all files in the folder\n",
    "    files = os.listdir(folder_path)\n",
    "    return files"
   ]
  },
  {
   "cell_type": "markdown",
   "id": "efabfc6e-1265-480b-a782-3c8941bc57e0",
   "metadata": {},
   "source": [
    "- Callback function to handle delivery reports from Kafka broker"
   ]
  },
  {
   "cell_type": "code",
   "execution_count": 5,
   "id": "545534b6-8652-47af-98be-7f658a3448db",
   "metadata": {
    "tags": []
   },
   "outputs": [],
   "source": [
    "def delivery_report(err, msg):\n",
    "    if err is not None:\n",
    "        print('Message delivery failed: {}'.format(err))\n",
    "    else:\n",
    "        print('Message delivered to {} [{}]'.format(msg.topic(), msg.partition()))"
   ]
  },
  {
   "cell_type": "markdown",
   "id": "276adb67-7bd9-423d-85e0-c16ec70bb111",
   "metadata": {},
   "source": [
    "- Run the below code for to complete the process of producing the data to kafka"
   ]
  },
  {
   "cell_type": "code",
   "execution_count": 6,
   "id": "87548f93-e509-4106-b5f3-6a3f2ed39881",
   "metadata": {
    "tags": []
   },
   "outputs": [
    {
     "name": "stdout",
     "output_type": "stream",
     "text": [
      "Message delivered to bird_names_farm [0]\n",
      "Message delivered to bird_names_farm [0]\n",
      "Message delivered to bird_names_farm [0]\n",
      "Message delivered to bird_names_farm [0]\n",
      "Message delivered to bird_names_farm [0]\n",
      "Message delivered to bird_names_farm [0]\n",
      "Message delivered to bird_names_farm [0]\n",
      "Message delivered to bird_names_farm [0]\n",
      "Message delivered to bird_names_farm [0]\n",
      "Message delivered to bird_names_farm [0]\n",
      "Message delivered to bird_names_farm [0]\n",
      "Message delivered to bird_names_farm [0]\n",
      "Message delivered to bird_names_farm [0]\n",
      "Message delivered to bird_names_farm [0]\n",
      "Message delivered to bird_names_farm [0]\n",
      "Message delivered to bird_names_farm [0]\n",
      "Message delivered to bird_names_farm [0]\n",
      "Message delivered to bird_names_farm [0]\n",
      "Message delivered to bird_names_farm [0]\n",
      "Message delivered to bird_names_farm [0]\n",
      "Message delivered to bird_names_farm [0]\n",
      "Message delivered to bird_names_farm [0]\n",
      "Message delivered to bird_names_farm [0]\n",
      "Message delivered to bird_names_farm [0]\n",
      "Message delivered to bird_names_farm [0]\n",
      "Message delivered to bird_names_farm [0]\n",
      "Message delivered to bird_names_farm [0]\n",
      "Message delivered to bird_names_farm [0]\n",
      "Message delivered to bird_names_farm [0]\n",
      "Message delivered to bird_names_farm [0]\n",
      "Message delivered to bird_names_farm [0]\n",
      "Message delivered to bird_names_farm [0]\n",
      "Message delivered to bird_names_farm [0]\n",
      "Message delivered to bird_names_farm [0]\n",
      "Message delivered to bird_names_farm [0]\n",
      "Message delivered to sheep_names_farm [0]\n",
      "Message delivered to sheep_names_farm [0]\n",
      "Message delivered to sheep_names_farm [0]\n",
      "Message delivered to sheep_names_farm [0]\n",
      "Message delivered to sheep_names_farm [0]\n",
      "Message delivered to sheep_names_farm [0]\n",
      "Message delivered to sheep_names_farm [0]\n",
      "Message delivered to sheep_names_farm [0]\n",
      "Message delivered to sheep_names_farm [0]\n",
      "Message delivered to sheep_names_farm [0]\n",
      "Message delivered to sheep_names_farm [0]\n",
      "Message delivered to sheep_names_farm [0]\n",
      "Message delivered to sheep_names_farm [0]\n",
      "Message delivered to sheep_names_farm [0]\n",
      "Message delivered to sheep_names_farm [0]\n",
      "Message delivered to sheep_names_farm [0]\n",
      "Message delivered to sheep_names_farm [0]\n",
      "Message delivered to sheep_names_farm [0]\n",
      "Message delivered to sheep_names_farm [0]\n",
      "Message delivered to sheep_names_farm [0]\n",
      "Message delivered to sheep_names_farm [0]\n",
      "Message delivered to sheep_names_farm [0]\n",
      "Message delivered to sheep_names_farm [0]\n",
      "Message delivered to sheep_names_farm [0]\n",
      "Message delivered to sheep_names_farm [0]\n",
      "Message delivered to sheep_names_farm [0]\n",
      "Message delivered to sheep_names_farm [0]\n",
      "Message delivered to sheep_names_farm [0]\n",
      "Message delivered to sheep_names_farm [0]\n",
      "Message delivered to sheep_names_farm [0]\n",
      "Message delivered to sheep_names_farm [0]\n",
      "Message delivered to sheep_names_farm [0]\n",
      "Message delivered to sheep_names_farm [0]\n",
      "Message delivered to sheep_names_farm [0]\n",
      "Message delivered to sheep_names_farm [0]\n",
      "Message delivered to whale_names_farm [0]\n",
      "Message delivered to whale_names_farm [0]\n",
      "Message delivered to whale_names_farm [0]\n",
      "Message delivered to whale_names_farm [0]\n",
      "Message delivered to whale_names_farm [0]\n",
      "Message delivered to whale_names_farm [0]\n",
      "Message delivered to whale_names_farm [0]\n",
      "Message delivered to whale_names_farm [0]\n",
      "Message delivered to whale_names_farm [0]\n",
      "Message delivered to whale_names_farm [0]\n",
      "Message delivered to whale_names_farm [0]\n",
      "Message delivered to whale_names_farm [0]\n",
      "Message delivered to whale_names_farm [0]\n",
      "Message delivered to whale_names_farm [0]\n",
      "Message delivered to whale_names_farm [0]\n",
      "Message delivered to whale_names_farm [0]\n",
      "Message delivered to whale_names_farm [0]\n",
      "Message delivered to whale_names_farm [0]\n",
      "Message delivered to whale_names_farm [0]\n",
      "Message delivered to whale_names_farm [0]\n",
      "Message delivered to whale_names_farm [0]\n",
      "Message delivered to whale_names_farm [0]\n",
      "Message delivered to whale_names_farm [0]\n",
      "Message delivered to whale_names_farm [0]\n",
      "Message delivered to whale_names_farm [0]\n",
      "Message delivered to whale_names_farm [0]\n",
      "Message delivered to whale_names_farm [0]\n",
      "Message delivered to whale_names_farm [0]\n",
      "Message delivered to whale_names_farm [0]\n",
      "Message delivered to whale_names_farm [0]\n",
      "Message delivered to whale_names_farm [0]\n",
      "Message delivered to whale_names_farm [0]\n",
      "Message delivered to whale_names_farm [0]\n",
      "Message delivered to whale_names_farm [0]\n",
      "Message delivered to whale_names_farm [0]\n"
     ]
    }
   ],
   "source": [
    "# Read the files in the folder\n",
    "files = read_files_in_folder(folder)\n",
    "for filename in files:\n",
    "    file_path = os.path.join(folder, filename)\n",
    "    with open(file_path, 'r') as in_file:\n",
    "        in_file.readline()\n",
    "        lst = in_file.readlines()\n",
    "\n",
    "    # Configuration for Kafka producer\n",
    "    conf = {\n",
    "        'bootstrap.servers': bootstrap_servers,\n",
    "        'client.id': filename\n",
    "    }\n",
    "\n",
    "    # Create Kafka producer instance\n",
    "    producer = Producer(conf)\n",
    "\n",
    "    # Produce a message to Kafka topic\n",
    "    for index in range(len(lst)):\n",
    "        curr = lst[index].split(',')\n",
    "        key = curr[0]  # Optional: You can set a key for the message\n",
    "        value = curr[1]\n",
    "\n",
    "        producer.produce(filename.rstrip(\".csv\"), key=key, value=value, callback=delivery_report)\n",
    "\n",
    "    # Wait for any outstanding messages to be delivered and delivery reports received\n",
    "        producer.flush()\n",
    "        time.sleep(0.1)"
   ]
  }
 ],
 "metadata": {
  "kernelspec": {
   "display_name": "Python 3 (ipykernel)",
   "language": "python",
   "name": "python3"
  },
  "language_info": {
   "codemirror_mode": {
    "name": "ipython",
    "version": 3
   },
   "file_extension": ".py",
   "mimetype": "text/x-python",
   "name": "python",
   "nbconvert_exporter": "python",
   "pygments_lexer": "ipython3",
   "version": "3.11.6"
  }
 },
 "nbformat": 4,
 "nbformat_minor": 5
}
