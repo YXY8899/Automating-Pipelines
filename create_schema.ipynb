{
 "cells": [
  {
   "cell_type": "markdown",
   "id": "a32bc0e8-eafc-4d56-b8fd-84e3a1eada9d",
   "metadata": {},
   "source": [
    "# Script to create Schema the topics\n",
    "- Import the necessary Dependencies"
   ]
  },
  {
   "cell_type": "code",
   "execution_count": 2,
   "id": "d572dba8-4c0d-44bb-a117-14523d7b22f6",
   "metadata": {
    "tags": []
   },
   "outputs": [],
   "source": [
    "import os\n",
    "import requests"
   ]
  },
  {
   "cell_type": "markdown",
   "id": "ad2388c8-2d8b-49ab-bb08-116632d71a1f",
   "metadata": {},
   "source": [
    "- Set the URL for the schema registry"
   ]
  },
  {
   "cell_type": "code",
   "execution_count": 3,
   "id": "ee2a2e5f-4bd2-4ae0-bf8b-16db96f6fd03",
   "metadata": {
    "tags": []
   },
   "outputs": [],
   "source": [
    "SCHEMA_REGISTRY_URL = \"http://svc-schemaregistry-headless.starlake-kafka:8081\""
   ]
  },
  {
   "cell_type": "markdown",
   "id": "671d5a2a-1101-42e4-b04d-eb72d24e0769",
   "metadata": {},
   "source": [
    "- If you are only creating 1 schema run the following script. If not do not run the below Script."
   ]
  },
  {
   "cell_type": "code",
   "execution_count": null,
   "id": "8553749e-82f2-40d4-bd8a-05bcf6d4653b",
   "metadata": {},
   "outputs": [],
   "source": [
    "SCHEMA_FILE = \"./schema/sheeps.json\"\n",
    "SUBJECT = \"sheeps\""
   ]
  },
  {
   "cell_type": "code",
   "execution_count": null,
   "id": "b5b7a1af-97f5-41c5-a2fa-fdbfb4df5832",
   "metadata": {},
   "outputs": [],
   "source": [
    "# Check if schema file is provided\n",
    "if not SCHEMA_FILE:\n",
    "    print(\"Error: Avro schema file not provided.\")\n",
    "    sys.exit(1)\n",
    "\n",
    "# Check if schema file exists\n",
    "if not os.path.isfile(SCHEMA_FILE):\n",
    "    print(\"Error: Avro schema file '{}' not found.\".format(SCHEMA_FILE))\n",
    "    sys.exit(1)\n",
    "\n",
    "# Read Avro schema from file\n",
    "with open(SCHEMA_FILE, 'r') as f:\n",
    "    AVRO_SCHEMA = f.read()\n",
    "    print(AVRO_SCHEMA)\n",
    "\n",
    "# Define HTTP request URL for posting the schema\n",
    "REQUEST_URL = \"{}/subjects/{}/versions\".format(SCHEMA_REGISTRY_URL, SUBJECT + \"-value\")\n",
    "\n",
    "# Post the Avro schema to Schema Registry\n",
    "response = requests.post(REQUEST_URL, headers={\"Content-Type\": \"application/vnd.schemaregistry.v1+json\"}, data=AVRO_SCHEMA)\n",
    "print(response.text)"
   ]
  },
  {
   "cell_type": "code",
   "execution_count": null,
   "id": "ed5e350f-430e-4b96-9379-544a156c1ef9",
   "metadata": {},
   "outputs": [],
   "source": [
    "- If you want to create all the schemas in the schema directory, use the following code"
   ]
  },
  {
   "cell_type": "code",
   "execution_count": 6,
   "id": "e085a86e-a7c3-4eca-9e09-ccc60eb5aa97",
   "metadata": {
    "tags": []
   },
   "outputs": [],
   "source": [
    "SCHEMA_FOLDER = \"./schema\""
   ]
  },
  {
   "cell_type": "code",
   "execution_count": 8,
   "id": "578f6da8-10d3-47e3-b84d-51db3eb2f113",
   "metadata": {
    "tags": []
   },
   "outputs": [
    {
     "name": "stdout",
     "output_type": "stream",
     "text": [
      "{\n",
      "  \"schema\": \"{\\\"connect.name\\\":\\\"birds\\\",\\\"type\\\":\\\"record\\\",\\\"name\\\":\\\"birds\\\",\\\"fields\\\":[{\\\"name\\\":\\\"id\\\",\\\"type\\\":\\\"int\\\"},{\\\"name\\\":\\\"farm\\\",\\\"type\\\":[\\\"null\\\",\\\"string\\\"],\\\"default\\\":null},{\\\"name\\\":\\\"bird_id\\\",\\\"type\\\":[\\\"null\\\",\\\"int\\\"],\\\"default\\\":null},{\\\"name\\\":\\\"longitude\\\",\\\"type\\\":[\\\"null\\\",\\\"double\\\"],\\\"default\\\":null},{\\\"name\\\":\\\"latitude\\\",\\\"type\\\":[\\\"null\\\",\\\"double\\\"],\\\"default\\\":null},{\\\"name\\\":\\\"date_time\\\",\\\"type\\\":[\\\"null\\\",{\\\"connect.name\\\":\\\"org.apache.kafka.connect.data.Timestamp\\\",\\\"connect.version\\\":1,\\\"logicalType\\\":\\\"timestamp-millis\\\",\\\"type\\\":\\\"long\\\"}],\\\"default\\\":null},{\\\"name\\\":\\\"file_path\\\",\\\"type\\\":[\\\"null\\\",\\\"string\\\"],\\\"default\\\":null}]}\",\n",
      "  \"schemaType\": \"AVRO\"\n",
      "}\n",
      "{\"id\":2}\n",
      "{\n",
      "    \"schema\": \"{\\\"connect.name\\\":\\\"sheeps\\\",\\\"type\\\":\\\"record\\\",\\\"name\\\":\\\"sheeps\\\",\\\"fields\\\":[{\\\"name\\\":\\\"id\\\",\\\"type\\\":\\\"int\\\"},{\\\"name\\\":\\\"farm\\\",\\\"type\\\":[\\\"null\\\",\\\"string\\\"],\\\"default\\\":null},{\\\"name\\\":\\\"sheep_id\\\",\\\"type\\\":[\\\"null\\\",\\\"int\\\"],\\\"default\\\":null},{\\\"name\\\":\\\"longitude\\\",\\\"type\\\":[\\\"null\\\",\\\"double\\\"],\\\"default\\\":null},{\\\"name\\\":\\\"latitude\\\",\\\"type\\\":[\\\"null\\\",\\\"double\\\"],\\\"default\\\":null},{\\\"name\\\":\\\"date_time\\\",\\\"type\\\":[\\\"null\\\",{\\\"connect.name\\\":\\\"org.apache.kafka.connect.data.Timestamp\\\",\\\"connect.version\\\":1,\\\"logicalType\\\":\\\"timestamp-millis\\\",\\\"type\\\":\\\"long\\\"}],\\\"default\\\":null},{\\\"name\\\":\\\"file_path\\\",\\\"type\\\":[\\\"null\\\",\\\"string\\\"],\\\"default\\\":null}]}\",\n",
      "    \"schemaType\": \"AVRO\"\n",
      "}\n",
      "{\"id\":1}\n",
      "{\n",
      "    \"schema\": \"{\\\"connect.name\\\":\\\"whales\\\",\\\"type\\\":\\\"record\\\",\\\"name\\\":\\\"whales\\\",\\\"fields\\\":[{\\\"name\\\":\\\"id\\\",\\\"type\\\":\\\"int\\\"},{\\\"name\\\":\\\"farm\\\",\\\"type\\\":[\\\"null\\\",\\\"string\\\"],\\\"default\\\":null},{\\\"name\\\":\\\"whale_id\\\",\\\"type\\\":[\\\"null\\\",\\\"int\\\"],\\\"default\\\":null},{\\\"name\\\":\\\"longitude\\\",\\\"type\\\":[\\\"null\\\",\\\"double\\\"],\\\"default\\\":null},{\\\"name\\\":\\\"latitude\\\",\\\"type\\\":[\\\"null\\\",\\\"double\\\"],\\\"default\\\":null},{\\\"name\\\":\\\"date_time\\\",\\\"type\\\":[\\\"null\\\",{\\\"connect.name\\\":\\\"org.apache.kafka.connect.data.Timestamp\\\",\\\"connect.version\\\":1,\\\"logicalType\\\":\\\"timestamp-millis\\\",\\\"type\\\":\\\"long\\\"}],\\\"default\\\":null},{\\\"name\\\":\\\"file_path\\\",\\\"type\\\":[\\\"null\\\",\\\"string\\\"],\\\"default\\\":null}]}\",\n",
      "    \"schemaType\": \"AVRO\"\n",
      "}\n",
      "{\"id\":3}\n"
     ]
    }
   ],
   "source": [
    "# Check if the schema folder exists\n",
    "if not os.path.isdir(SCHEMA_FOLDER):\n",
    "    print(\"Error: Schema folder '{}' not found.\".format(SCHEMA_FOLDER))\n",
    "    sys.exit(1)\n",
    "\n",
    "# Iterate over each file in the schema folder\n",
    "for filename in os.listdir(SCHEMA_FOLDER):\n",
    "    schema_file = os.path.join(SCHEMA_FOLDER, filename)\n",
    "\n",
    "    # Check if the current item is a file\n",
    "    if os.path.isfile(schema_file):\n",
    "        # Read Avro schema from file\n",
    "        with open(schema_file, 'r') as f:\n",
    "            AVRO_SCHEMA = f.read()\n",
    "            print(AVRO_SCHEMA)\n",
    "\n",
    "        # Extract subject from file name (assuming file name is subject.avsc)\n",
    "        subject = os.path.splitext(filename)[0] + \"-value\"\n",
    "\n",
    "        # Define HTTP request URL for posting the schema\n",
    "        REQUEST_URL = \"{}/subjects/{}/versions\".format(SCHEMA_REGISTRY_URL, subject)\n",
    "\n",
    "        # Post the Avro schema to Schema Registry\n",
    "        response = requests.post(REQUEST_URL, headers={\"Content-Type\": \"application/vnd.schemaregistry.v1+json\"}, data=AVRO_SCHEMA)\n",
    "        print(response.text)"
   ]
  }
 ],
 "metadata": {
  "kernelspec": {
   "display_name": "Python 3 (ipykernel)",
   "language": "python",
   "name": "python3"
  },
  "language_info": {
   "codemirror_mode": {
    "name": "ipython",
    "version": 3
   },
   "file_extension": ".py",
   "mimetype": "text/x-python",
   "name": "python",
   "nbconvert_exporter": "python",
   "pygments_lexer": "ipython3",
   "version": "3.11.6"
  }
 },
 "nbformat": 4,
 "nbformat_minor": 5
}
