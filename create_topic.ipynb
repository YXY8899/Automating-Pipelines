{
 "cells": [
  {
   "cell_type": "markdown",
   "id": "b8e89b92-9aa8-451e-b4d8-9960e30fd50f",
   "metadata": {},
   "source": [
    "# Script to create topics in Kafka\n",
    "- Import the necessary Dependencies"
   ]
  },
  {
   "cell_type": "code",
   "execution_count": 1,
   "id": "2d26af4c-4ee8-4328-8cc1-5863bbb73b6c",
   "metadata": {
    "tags": []
   },
   "outputs": [],
   "source": [
    "from confluent_kafka.admin import AdminClient, NewTopic"
   ]
  },
  {
   "cell_type": "markdown",
   "id": "169a3a67-6f42-4a6d-b9ed-747e01af66cc",
   "metadata": {},
   "source": [
    "- Configure the topics details in the code below\n",
    "- For more configurations refer to default_settings_for_topics.json"
   ]
  },
  {
   "cell_type": "code",
   "execution_count": 2,
   "id": "4a5472c6-396f-4480-8d93-777bcc5dd7be",
   "metadata": {
    "tags": []
   },
   "outputs": [],
   "source": [
    "config_data = {\n",
    "    \"bootstrap_servers\": \"svc-kafka-headless.starlake-kafka:9092\",\n",
    "    \"topics\": [\n",
    "        {\"topic\": \"sheeps\", \"num_partitions\": 1, \"replication_factor\": 1, \"config\": {\"cleanup.policy\": \"delete\", \"retention.ms\": \"86400000\", \"confluent.stray.log.max.deletions.per.run\": 72}},\n",
    "        {\"topic\": \"whales\", \"num_partitions\": 1, \"replication_factor\": 1, \"config\": {\"cleanup.policy\": \"delete\", \"retention.ms\": \"86400000\"}},\n",
    "        {\"topic\": \"birds\", \"num_partitions\": 1, \"replication_factor\": 1, \"config\": {\"cleanup.policy\": \"delete\", \"retention.ms\": \"86400000\"}},\n",
    "        {\"topic\": \"sheep_names_farm\", \"num_partitions\": 1, \"replication_factor\": 1, \"config\": {\"cleanup.policy\": \"delete\", \"retention.ms\": \"86400000\"}},\n",
    "        {\"topic\": \"whale_names_farm\", \"num_partitions\": 1, \"replication_factor\": 1, \"config\": {\"cleanup.policy\": \"delete\", \"retention.ms\": \"86400000\"}},\n",
    "        {\"topic\": \"bird_names_farm\", \"num_partitions\": 1, \"replication_factor\": 1, \"config\": {\"cleanup.policy\": \"delete\", \"retention.ms\": \"86400000\"}}\n",
    "    ]\n",
    "}"
   ]
  },
  {
   "cell_type": "markdown",
   "id": "ec67041e-b6b6-482a-9b70-005c7998d2ef",
   "metadata": {},
   "source": [
    "- Run the following code to create the topics (The following code might take some time to run)"
   ]
  },
  {
   "cell_type": "code",
   "execution_count": 5,
   "id": "3a705192-18b8-4783-9309-23b506968c44",
   "metadata": {
    "tags": []
   },
   "outputs": [
    {
     "name": "stdout",
     "output_type": "stream",
     "text": [
      "Topic sheeps created successfully.\n",
      "Topic whales created successfully.\n",
      "Topic birds created successfully.\n",
      "Topic sheep_names_farm created successfully.\n",
      "Topic whale_names_farm created successfully.\n",
      "Topic bird_names_farm created successfully.\n"
     ]
    }
   ],
   "source": [
    "# Extract bootstrap servers from config\n",
    "bootstrap_servers = config_data[\"bootstrap_servers\"]\n",
    "\n",
    "# Create AdminClient instance\n",
    "admin_client = AdminClient({'bootstrap.servers': bootstrap_servers})\n",
    "\n",
    "# Extract topics from config\n",
    "topics_config = config_data[\"topics\"]\n",
    "\n",
    "# Create topics\n",
    "topics = [NewTopic(**config) for config in topics_config]\n",
    "future_results = admin_client.create_topics(topics)\n",
    "\n",
    "# Wait for topic creation to finish\n",
    "admin_client.poll(10)\n",
    "\n",
    "# Check for any errors during topic creation\n",
    "for topic, future in future_results.items():\n",
    "    try:\n",
    "        future.result()  # Wait for the topic to be created\n",
    "        print(f\"Topic {topic} created successfully.\")\n",
    "    except Exception as e:\n",
    "        print(f\"Failed to create topic {topic}: {e}\")"
   ]
  }
 ],
 "metadata": {
  "kernelspec": {
   "display_name": "Python 3 (ipykernel)",
   "language": "python",
   "name": "python3"
  },
  "language_info": {
   "codemirror_mode": {
    "name": "ipython",
    "version": 3
   },
   "file_extension": ".py",
   "mimetype": "text/x-python",
   "name": "python",
   "nbconvert_exporter": "python",
   "pygments_lexer": "ipython3",
   "version": "3.11.6"
  }
 },
 "nbformat": 4,
 "nbformat_minor": 5
}
